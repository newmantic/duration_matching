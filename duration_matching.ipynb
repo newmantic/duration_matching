{
  "nbformat": 4,
  "nbformat_minor": 0,
  "metadata": {
    "colab": {
      "provenance": [],
      "authorship_tag": "ABX9TyMaEnXR18dwUNN3Ofvdv9vV",
      "include_colab_link": true
    },
    "kernelspec": {
      "name": "python3",
      "display_name": "Python 3"
    },
    "language_info": {
      "name": "python"
    }
  },
  "cells": [
    {
      "cell_type": "markdown",
      "metadata": {
        "id": "view-in-github",
        "colab_type": "text"
      },
      "source": [
        "<a href=\"https://colab.research.google.com/github/newmantic/duration_matching/blob/main/duration_matching.ipynb\" target=\"_parent\"><img src=\"https://colab.research.google.com/assets/colab-badge.svg\" alt=\"Open In Colab\"/></a>"
      ]
    },
    {
      "cell_type": "code",
      "execution_count": 1,
      "metadata": {
        "id": "hWLlSA1Qeq7Q"
      },
      "outputs": [],
      "source": [
        "import numpy as np\n",
        "\n",
        "def calculate_duration(cash_flows, times, discount_rate):\n",
        "    \"\"\"\n",
        "    Calculate the Macaulay duration of a bond.\n",
        "\n",
        "    Args:\n",
        "        cash_flows (list): List of cash flows from the bond.\n",
        "        times (list): List of times (in years) at which the cash flows are received.\n",
        "        discount_rate (float): The discount rate or yield to maturity.\n",
        "\n",
        "    Returns:\n",
        "        float: The Macaulay duration of the bond.\n",
        "    \"\"\"\n",
        "    pv_cash_flows = [cf / (1 + discount_rate) ** t for cf, t in zip(cash_flows, times)]\n",
        "    total_pv = np.sum(pv_cash_flows)\n",
        "    weighted_times = [(t * pv_cf) for t, pv_cf in zip(times, pv_cash_flows)]\n",
        "    duration = np.sum(weighted_times) / total_pv\n",
        "    return duration"
      ]
    },
    {
      "cell_type": "code",
      "source": [
        "def duration_matching(asset_durations, liability_durations, tolerance=0.01):\n",
        "    \"\"\"\n",
        "    Check if the duration of assets matches the duration of liabilities.\n",
        "\n",
        "    Args:\n",
        "        asset_durations (list): List of durations of assets.\n",
        "        liability_durations (list): List of durations of liabilities.\n",
        "        tolerance (float): Tolerance level within which durations should match.\n",
        "\n",
        "    Returns:\n",
        "        bool: True if durations match within the tolerance, False otherwise.\n",
        "    \"\"\"\n",
        "    avg_asset_duration = np.mean(asset_durations)\n",
        "    avg_liability_duration = np.mean(liability_durations)\n",
        "\n",
        "    return abs(avg_asset_duration - avg_liability_duration) <= tolerance"
      ],
      "metadata": {
        "id": "QDlSTN7xe8eD"
      },
      "execution_count": 2,
      "outputs": []
    },
    {
      "cell_type": "code",
      "source": [
        "# Bond with annual cash flows of $100 for 3 years and $1000 at maturity\n",
        "cash_flows = [100, 100, 1100]\n",
        "times = [1, 2, 3]  # Years\n",
        "discount_rate = 0.05  # 5% discount rate\n",
        "\n",
        "duration = calculate_duration(cash_flows, times, discount_rate)\n",
        "print(f\"Macaulay Duration: {duration:.2f} years\")"
      ],
      "metadata": {
        "colab": {
          "base_uri": "https://localhost:8080/"
        },
        "id": "MSedOY8efBC4",
        "outputId": "2cbba896-dfb3-4861-a6fc-b02950c0fb2c"
      },
      "execution_count": 3,
      "outputs": [
        {
          "output_type": "stream",
          "name": "stdout",
          "text": [
            "Macaulay Duration: 2.75 years\n"
          ]
        }
      ]
    },
    {
      "cell_type": "code",
      "source": [
        "# Asset durations (calculated using calculate_duration function)\n",
        "asset_durations = [4.2, 3.8, 4.1]\n",
        "\n",
        "# Liability durations (calculated similarly)\n",
        "liability_durations = [4.0, 4.1, 4.05]\n",
        "\n",
        "# Check if they match within a tolerance of 0.1 years\n",
        "match = duration_matching(asset_durations, liability_durations, tolerance=0.1)"
      ],
      "metadata": {
        "id": "vadnOpBbfEfw"
      },
      "execution_count": 4,
      "outputs": []
    }
  ]
}